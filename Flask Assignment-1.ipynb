{
 "cells": [
  {
   "cell_type": "markdown",
   "id": "1292df36-0186-4e4d-8229-e129377dc45e",
   "metadata": {},
   "source": [
    "# Pwskills"
   ]
  },
  {
   "cell_type": "markdown",
   "id": "7141cdb4-a5ee-4ab9-9e29-793107a94687",
   "metadata": {},
   "source": [
    "## Data Science Master"
   ]
  },
  {
   "cell_type": "markdown",
   "id": "137661eb-23cb-4952-b93e-1d8affbef95a",
   "metadata": {},
   "source": [
    "### Python Assignment"
   ]
  },
  {
   "cell_type": "markdown",
   "id": "b9eec191-2591-4a5d-934b-ad0cb6cc5efd",
   "metadata": {},
   "source": [
    "## Q1\n",
    "\n",
    "Q1. What is Flask Framework? What are the advantages of Flask Framework?\n",
    "\n",
    "    Flask is a lightweight web framework for Python that provides developers with a flexible and easy-to-use toolkit for building web applications. It is designed to be simple and straightforward, and it is built with a small core of functionality that can be easily extended with third-party libraries.\n",
    "\n",
    "     Some of the advantages of Flask Framework are:\n",
    "\n",
    "      1.Lightweight and Flexible: Flask is a lightweight framework that doesn't come with all the bells and whistles of larger frameworks, which makes it flexible and easy to use. It allows developers to choose the libraries and tools they want to use in their project, and it doesn't impose any particular way of doing things.\n",
    "\n",
    "      2.Easy to Get Started: Flask has a simple and intuitive API that makes it easy for developers to get started quickly. It has a built-in development server that allows developers to test their applications easily, and it can be easily installed using pip.\n",
    "\n",
    "      3.Extensible: Flask is highly extensible, and it allows developers to add functionality to their applications using third-party extensions. There are many Flask extensions available for common tasks like database integration, authentication, and more.\n",
    "\n",
    "      4..Large Community: Flask has a large and active community of developers who contribute to its development and create useful resources for other developers to use. This makes it easy to find help and support when needed.\n",
    "\n",
    "      5.Built-in Jinja2 Templating Engine: Flask comes with the Jinja2 templating engine, which allows developers to easily create dynamic HTML pages by separating the presentation logic from the business logic.\n",
    "\n",
    "       6.Python-based: Flask is built using Python, which is a popular and powerful programming language. This makes it easy for developers who are familiar with Python to learn and use Flask."
   ]
  },
  {
   "cell_type": "markdown",
   "id": "70fc7492-cdac-43ee-b3d3-33593e8a1763",
   "metadata": {},
   "source": [
    "## Q2\n",
    "\n",
    "Q2. Create a simple Flask application to display ‘Hello World!!’. Attach the screenshot of the output in\n",
    "Jupyter Notebook.\n",
    "\n",
    "     "
   ]
  },
  {
   "cell_type": "code",
   "execution_count": null,
   "id": "71a3dba1-65d5-4dc7-ae90-87cc19a56694",
   "metadata": {},
   "outputs": [],
   "source": [
    "from flask import Flask\n",
    "\n",
    "app = Flask(__name__)\n",
    "\n",
    "@app.route('/')\n",
    "def hello_world():\n",
    "    return 'Hello World!!'\n",
    "\n",
    "if __name__ == '__main__':\n",
    "    app.run()\n"
   ]
  },
  {
   "cell_type": "markdown",
   "id": "3c5ca0b7-163b-433e-adc7-62b6e30b09c4",
   "metadata": {},
   "source": [
    "# Attached the screenshot of the output:\n",
    "\n",
    "## Please copy this url and check in new tab\n",
    "\n",
    "C:\\Users\\vignesh\\Pictures\\Screenshots\\Screenshot (6).png"
   ]
  },
  {
   "cell_type": "markdown",
   "id": "19a0dd0f-03f9-427f-a8e7-8f5f38d0ff77",
   "metadata": {},
   "source": [
    "## Q3\n",
    "Q3. What is App routing in Flask? Why do we use app routes?\n",
    "\n",
    "    In Flask, app routing refers to the process of mapping URLs to the functions that handle them. In other words, when a user makes a request to a specific URL, Flask needs to know which function to call to handle that request. This is where app routing comes into play.\n",
    "\n",
    "    App routing is accomplished using the @app.route() decorator in Flask. This decorator associates a URL pattern with a view function that will handle requests to that URL. For example, the following code maps the root URL of a Flask application to a view function named index():"
   ]
  },
  {
   "cell_type": "code",
   "execution_count": null,
   "id": "c5bf1e83-c912-4a9a-9856-7c59ab5c4dfb",
   "metadata": {},
   "outputs": [],
   "source": [
    "@app.route('/')\n",
    "def index():\n",
    "    return 'This is the homepage!'\n"
   ]
  },
  {
   "cell_type": "markdown",
   "id": "40c5c352-5345-4967-ad9e-9d9c164bfac2",
   "metadata": {},
   "source": [
    "    When a user visits the root URL of the application (i.e., http://localhost:5000/), Flask will call the index() function and return the string 'This is the homepage!'.\n",
    "\n",
    "     We use app routes in Flask to create a modular and maintainable web application. By defining different routes for different functionalities of our application, we can separate the concerns and make it easier to manage our code. App routes also make it easier to handle user requests by providing a clear and structured way to map URLs to functions.\n",
    "\n",
    "     In addition, app routes allow us to create a RESTful API by mapping URLs to specific HTTP methods (e.g., GET, POST, PUT, DELETE). This makes it easy to build web services that can be used by other applications or systems."
   ]
  },
  {
   "cell_type": "markdown",
   "id": "b4ee7891-2473-4746-9463-4eccbdbe342d",
   "metadata": {},
   "source": [
    "## Q4\n",
    "Q4. Create a “/welcome” route to display the welcome message “Welcome to ABC Corporation” and a “/”\n",
    "route to show the following details:\n",
    "Company Name: ABC Corporation\n",
    "Location: India\n",
    "Contact Detail: 999-999-9999\n",
    "Attach the screenshot of the output in Jupyter Notebook.\n",
    "\n",
    "\n",
    "    Here's the code to create the routes that you've requested:"
   ]
  },
  {
   "cell_type": "code",
   "execution_count": null,
   "id": "1d098271-f6e6-480f-b78f-cb6f709b564c",
   "metadata": {},
   "outputs": [],
   "source": [
    "from flask import Flask\n",
    "\n",
    "app = Flask(__name__)\n",
    "\n",
    "@app.route('/welcome')\n",
    "def welcome():\n",
    "    return 'Welcome to ABC Corporation'\n",
    "\n",
    "@app.route('/')\n",
    "def company_details():\n",
    "    return 'Company Name: ABC Corporation<br>Location: India<br>Contact Detail: 999-999-9999'\n",
    "\n",
    "if __name__ == '__main__':\n",
    "    app.run()\n"
   ]
  },
  {
   "cell_type": "code",
   "execution_count": null,
   "id": "28e91550-6fef-40bc-b787-4c172941707e",
   "metadata": {},
   "outputs": [],
   "source": []
  },
  {
   "cell_type": "code",
   "execution_count": null,
   "id": "e0053f51-4873-44fa-a670-726e3736e99e",
   "metadata": {},
   "outputs": [],
   "source": []
  },
  {
   "cell_type": "markdown",
   "id": "d8b8592f-d7fd-4c8b-abe8-9cd209baf33e",
   "metadata": {},
   "source": [
    "## Q5\n",
    "\n",
    "Q5. What function is used in Flask for URL Building? Write a Python code to demonstrate the working of the\n",
    "url_for() function.\n",
    "\n",
    "    In Flask, the url_for() function is used for URL building. It generates a URL for a specified endpoint, which can include dynamic parameters. The url_for() function takes the name of the endpoint as its first argument, and any additional arguments are treated as dynamic parameters.\n",
    "\n",
    "    Here's an example of how to use the url_for() function in Flask:"
   ]
  },
  {
   "cell_type": "code",
   "execution_count": null,
   "id": "d2de885d-6230-4f68-9f67-112961db6c91",
   "metadata": {},
   "outputs": [],
   "source": [
    "from flask import Flask, url_for\n",
    "\n",
    "app = Flask(__name__)\n",
    "\n",
    "@app.route('/user/<username>')\n",
    "def profile(username):\n",
    "    return f'Hello, {username}!'\n",
    "\n",
    "with app.test_request_context():\n",
    "    print(url_for('profile', username='John Doe'))\n"
   ]
  },
  {
   "cell_type": "markdown",
   "id": "11397724-3097-4f69-be30-2ecfe0de6d71",
   "metadata": {},
   "source": [
    "       In this example, we define a route that accepts a dynamic parameter (<username>), and we define a view function that will handle requests to that route. Inside the with app.'test_request_context()' block, we call the' url_for()' function with the name of the endpoint (profile) and the dynamic parameter (username='John Doe'). The 'url_for()' function generates a URL for the specified endpoint with the provided dynamic parameter. The output of the' print()' statement will be /user/John%20Doe, which is the URL for the profile endpoint with the dynamic parameter username set to John Doe.\n",
    "\n",
    "       Note that we use with app.'test_request_context()' to create a test request context, which allows us to use the' url_for()' function outside of the request context. In a real Flask application, you would typically use the 'url_for()' function inside a view function, which is already within the request context."
   ]
  },
  {
   "cell_type": "code",
   "execution_count": null,
   "id": "7ce88deb-5504-43f4-b78f-e6678dc2fd72",
   "metadata": {},
   "outputs": [],
   "source": []
  }
 ],
 "metadata": {
  "kernelspec": {
   "display_name": "Python 3 (ipykernel)",
   "language": "python",
   "name": "python3"
  },
  "language_info": {
   "codemirror_mode": {
    "name": "ipython",
    "version": 3
   },
   "file_extension": ".py",
   "mimetype": "text/x-python",
   "name": "python",
   "nbconvert_exporter": "python",
   "pygments_lexer": "ipython3",
   "version": "3.10.8"
  }
 },
 "nbformat": 4,
 "nbformat_minor": 5
}
